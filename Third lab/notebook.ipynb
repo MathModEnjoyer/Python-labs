{
 "cells": [
  {
   "cell_type": "code",
   "execution_count": 8,
   "metadata": {},
   "outputs": [],
   "source": [
    "from datetime import datetime\n",
    "from meteostat import Point, Daily\n",
    "from matplotlib import pyplot as plt\n",
    "import analyzerdf\n",
    "import services\n",
    "import logging\n",
    "import logging.config\n",
    "import json"
   ]
  },
  {
   "cell_type": "code",
   "execution_count": 9,
   "metadata": {},
   "outputs": [],
   "source": [
    "config = None\n",
    "with open('config/logger_config.json', 'r') as file:\n",
    "    config = json.load(file)\n",
    "logging.config.dictConfig(config)"
   ]
  },
  {
   "cell_type": "code",
   "execution_count": 10,
   "metadata": {},
   "outputs": [],
   "source": [
    "samara = Point(53.2, 50.15, 116)\n",
    "time_start = datetime(2015, 1, 1)\n",
    "time_end = datetime(2017, 12, 31)\n",
    "\n",
    "time_start2 = datetime(2010, 1, 1)\n",
    "time_end2 = datetime(2010, 12, 31)"
   ]
  },
  {
   "cell_type": "code",
   "execution_count": 11,
   "metadata": {},
   "outputs": [],
   "source": [
    "samara_temperature_df = Daily(samara, time_start, time_end).fetch()\n",
    "samara_temperature_df.dropna(axis='columns', how='all', inplace=True)\n",
    "samara_temperature_df_analyzer = analyzerdf.Analyzer(samara_temperature_df,\n",
    "                                     [samara._lat, samara._lon, samara._alt])\n",
    "\n",
    "samara_temperature_df2 = Daily(samara, time_start2, time_end2).fetch()\n",
    "samara_temperature_df2.dropna(axis='columns', how='all', inplace=True)\n",
    "samara_temperature_df_analyzer2 = analyzerdf.Analyzer(samara_temperature_df2,\n",
    "                                     [samara._lat, samara._lon, samara._alt])"
   ]
  },
  {
   "cell_type": "code",
   "execution_count": 12,
   "metadata": {},
   "outputs": [],
   "source": [
    "service = services.Service(samara_temperature_df_analyzer)"
   ]
  },
  {
   "cell_type": "code",
   "execution_count": 15,
   "metadata": {},
   "outputs": [],
   "source": [
    "service2 = services.Service(samara_temperature_df_analyzer2)"
   ]
  },
  {
   "cell_type": "code",
   "execution_count": null,
   "metadata": {},
   "outputs": [
    {
     "name": "stderr",
     "output_type": "stream",
     "text": [
      "2024-11-19 17:07:50,705 MainProcess services.service INFO     Сервис запустился\n"
     ]
    },
    {
     "name": "stderr",
     "output_type": "stream",
     "text": [
      "2024-11-19 17:07:50,792 MainProcess analyzerdf.analyzerdf.analyzer INFO     Найден дифференциал временного ряда\n",
      "2024-11-19 17:07:57,815 MainProcess analyzerdf.analyzerdf.analyzer INFO     Найден дифференциал временного ряда\n",
      "2024-11-19 17:08:04,872 MainProcess analyzerdf.analyzerdf.analyzer INFO     Найден дифференциал временного ряда\n",
      "2024-11-19 17:08:11,912 MainProcess analyzerdf.analyzerdf.analyzer INFO     Найден дифференциал временного ряда\n",
      "2024-11-19 17:08:18,957 MainProcess analyzerdf.analyzerdf.analyzer INFO     Найден дифференциал временного ряда\n",
      "2024-11-19 17:08:26,004 MainProcess analyzerdf.analyzerdf.analyzer INFO     Найден дифференциал временного ряда\n",
      "2024-11-19 17:08:33,027 MainProcess analyzerdf.analyzerdf.analyzer INFO     Найден дифференциал временного ряда\n",
      "2024-11-19 17:08:40,089 MainProcess analyzerdf.analyzerdf.analyzer INFO     Найден дифференциал временного ряда\n",
      "2024-11-19 17:08:47,133 MainProcess analyzerdf.analyzerdf.analyzer INFO     Найден дифференциал временного ряда\n",
      "2024-11-19 17:08:54,175 MainProcess analyzerdf.analyzerdf.analyzer INFO     Найден дифференциал временного ряда\n",
      "2024-11-19 17:09:01,204 MainProcess analyzerdf.analyzerdf.analyzer INFO     Найден дифференциал временного ряда\n",
      "2024-11-19 17:09:08,253 MainProcess analyzerdf.analyzerdf.analyzer INFO     Найден дифференциал временного ряда\n",
      "2024-11-19 17:09:15,296 MainProcess analyzerdf.analyzerdf.analyzer INFO     Найден дифференциал временного ряда\n",
      "2024-11-19 17:09:22,350 MainProcess analyzerdf.analyzerdf.analyzer INFO     Найден дифференциал временного ряда\n",
      "2024-11-19 17:09:29,419 MainProcess analyzerdf.analyzerdf.analyzer INFO     Найден дифференциал временного ряда\n",
      "2024-11-19 17:09:36,457 MainProcess analyzerdf.analyzerdf.analyzer INFO     Найден дифференциал временного ряда\n",
      "2024-11-19 17:09:43,510 MainProcess analyzerdf.analyzerdf.analyzer INFO     Найден дифференциал временного ряда\n",
      "2024-11-19 17:09:50,536 MainProcess analyzerdf.analyzerdf.analyzer INFO     Найден дифференциал временного ряда\n",
      "2024-11-19 17:09:57,581 MainProcess analyzerdf.analyzerdf.analyzer INFO     Найден дифференциал временного ряда\n",
      "2024-11-19 17:10:04,631 MainProcess analyzerdf.analyzerdf.analyzer INFO     Найден дифференциал временного ряда\n",
      "2024-11-19 17:10:11,659 MainProcess analyzerdf.analyzerdf.analyzer INFO     Найден дифференциал временного ряда\n",
      "2024-11-19 17:10:18,749 MainProcess analyzerdf.analyzerdf.analyzer INFO     Найден дифференциал временного ряда\n",
      "2024-11-19 17:10:25,792 MainProcess analyzerdf.analyzerdf.analyzer INFO     Найден дифференциал временного ряда\n",
      "2024-11-19 17:10:32,812 MainProcess analyzerdf.analyzerdf.analyzer INFO     Найден дифференциал временного ряда\n",
      "2024-11-19 17:10:39,861 MainProcess analyzerdf.analyzerdf.analyzer INFO     Найден дифференциал временного ряда\n",
      "2024-11-19 17:10:46,887 MainProcess analyzerdf.analyzerdf.analyzer INFO     Найден дифференциал временного ряда\n",
      "2024-11-19 17:10:53,921 MainProcess analyzerdf.analyzerdf.analyzer INFO     Найден дифференциал временного ряда\n",
      "2024-11-19 17:11:00,964 MainProcess analyzerdf.analyzerdf.analyzer INFO     Найден дифференциал временного ряда\n",
      "2024-11-19 17:11:08,002 MainProcess analyzerdf.analyzerdf.analyzer INFO     Найден дифференциал временного ряда\n",
      "2024-11-19 17:11:15,033 MainProcess analyzerdf.analyzerdf.analyzer INFO     Найден дифференциал временного ряда\n",
      "2024-11-19 17:11:22,072 MainProcess analyzerdf.analyzerdf.analyzer INFO     Найден дифференциал временного ряда\n",
      "2024-11-19 17:11:29,096 MainProcess analyzerdf.analyzerdf.analyzer INFO     Найден дифференциал временного ряда\n",
      "2024-11-19 17:11:36,127 MainProcess analyzerdf.analyzerdf.analyzer INFO     Найден дифференциал временного ряда\n",
      "2024-11-19 17:11:43,146 MainProcess analyzerdf.analyzerdf.analyzer INFO     Найден дифференциал временного ряда\n",
      "2024-11-19 19:15:20,145 MainProcess analyzerdf.analyzerdf.analyzer INFO     Найден дифференциал временного ряда\n",
      "2024-11-19 19:15:27,162 MainProcess analyzerdf.analyzerdf.analyzer INFO     Найден дифференциал временного ряда\n",
      "2024-11-19 19:15:34,184 MainProcess analyzerdf.analyzerdf.analyzer INFO     Найден дифференциал временного ряда\n",
      "2024-11-19 19:15:41,215 MainProcess analyzerdf.analyzerdf.analyzer INFO     Найден дифференциал временного ряда\n",
      "2024-11-19 19:15:48,240 MainProcess analyzerdf.analyzerdf.analyzer INFO     Найден дифференциал временного ряда\n",
      "2024-11-19 19:15:55,254 MainProcess analyzerdf.analyzerdf.analyzer INFO     Найден дифференциал временного ряда\n",
      "2024-11-19 19:16:02,271 MainProcess analyzerdf.analyzerdf.analyzer INFO     Найден дифференциал временного ряда\n",
      "2024-11-19 19:16:09,291 MainProcess analyzerdf.analyzerdf.analyzer INFO     Найден дифференциал временного ряда\n",
      "2024-11-19 19:16:16,317 MainProcess analyzerdf.analyzerdf.analyzer INFO     Найден дифференциал временного ряда\n",
      "2024-11-19 19:16:23,354 MainProcess analyzerdf.analyzerdf.analyzer INFO     Найден дифференциал временного ряда\n"
     ]
    }
   ],
   "source": [
    "service.start()"
   ]
  },
  {
   "cell_type": "code",
   "execution_count": 16,
   "metadata": {},
   "outputs": [
    {
     "name": "stderr",
     "output_type": "stream",
     "text": [
      "2024-11-19 17:09:30,610 MainProcess services.service INFO     Сервис запустился\n"
     ]
    },
    {
     "name": "stderr",
     "output_type": "stream",
     "text": [
      "2024-11-19 17:09:30,697 MainProcess analyzerdf.analyzerdf.analyzer INFO     Найден дифференциал временного ряда\n",
      "2024-11-19 17:09:37,746 MainProcess analyzerdf.analyzerdf.analyzer INFO     Найден дифференциал временного ряда\n",
      "2024-11-19 17:09:44,800 MainProcess analyzerdf.analyzerdf.analyzer INFO     Найден дифференциал временного ряда\n",
      "2024-11-19 17:09:51,840 MainProcess analyzerdf.analyzerdf.analyzer INFO     Найден дифференциал временного ряда\n",
      "2024-11-19 17:09:58,880 MainProcess analyzerdf.analyzerdf.analyzer INFO     Найден дифференциал временного ряда\n",
      "2024-11-19 17:10:05,935 MainProcess analyzerdf.analyzerdf.analyzer INFO     Найден дифференциал временного ряда\n",
      "2024-11-19 17:10:12,985 MainProcess analyzerdf.analyzerdf.analyzer INFO     Найден дифференциал временного ряда\n",
      "2024-11-19 17:10:20,064 MainProcess analyzerdf.analyzerdf.analyzer INFO     Найден дифференциал временного ряда\n",
      "2024-11-19 17:10:27,090 MainProcess analyzerdf.analyzerdf.analyzer INFO     Найден дифференциал временного ряда\n",
      "2024-11-19 17:10:34,133 MainProcess analyzerdf.analyzerdf.analyzer INFO     Найден дифференциал временного ряда\n",
      "2024-11-19 17:10:41,260 MainProcess analyzerdf.analyzerdf.analyzer INFO     Найден дифференциал временного ряда\n",
      "2024-11-19 17:10:48,318 MainProcess analyzerdf.analyzerdf.analyzer INFO     Найден дифференциал временного ряда\n",
      "2024-11-19 17:10:55,361 MainProcess analyzerdf.analyzerdf.analyzer INFO     Найден дифференциал временного ряда\n",
      "2024-11-19 17:11:02,406 MainProcess analyzerdf.analyzerdf.analyzer INFO     Найден дифференциал временного ряда\n",
      "2024-11-19 17:11:09,456 MainProcess analyzerdf.analyzerdf.analyzer INFO     Найден дифференциал временного ряда\n",
      "2024-11-19 17:11:16,499 MainProcess analyzerdf.analyzerdf.analyzer INFO     Найден дифференциал временного ряда\n",
      "2024-11-19 17:11:23,538 MainProcess analyzerdf.analyzerdf.analyzer INFO     Найден дифференциал временного ряда\n",
      "2024-11-19 17:11:30,565 MainProcess analyzerdf.analyzerdf.analyzer INFO     Найден дифференциал временного ряда\n",
      "2024-11-19 17:11:37,610 MainProcess analyzerdf.analyzerdf.analyzer INFO     Найден дифференциал временного ряда\n",
      "2024-11-19 17:11:44,639 MainProcess analyzerdf.analyzerdf.analyzer INFO     Найден дифференциал временного ряда\n",
      "2024-11-19 19:15:21,636 MainProcess analyzerdf.analyzerdf.analyzer INFO     Найден дифференциал временного ряда\n",
      "2024-11-19 19:15:28,665 MainProcess analyzerdf.analyzerdf.analyzer INFO     Найден дифференциал временного ряда\n",
      "2024-11-19 19:15:35,680 MainProcess analyzerdf.analyzerdf.analyzer INFO     Найден дифференциал временного ряда\n",
      "2024-11-19 19:15:42,708 MainProcess analyzerdf.analyzerdf.analyzer INFO     Найден дифференциал временного ряда\n",
      "2024-11-19 19:15:49,734 MainProcess analyzerdf.analyzerdf.analyzer INFO     Найден дифференциал временного ряда\n",
      "2024-11-19 19:15:56,756 MainProcess analyzerdf.analyzerdf.analyzer INFO     Найден дифференциал временного ряда\n",
      "2024-11-19 19:16:03,767 MainProcess analyzerdf.analyzerdf.analyzer INFO     Найден дифференциал временного ряда\n",
      "2024-11-19 19:16:10,798 MainProcess analyzerdf.analyzerdf.analyzer INFO     Найден дифференциал временного ряда\n",
      "2024-11-19 19:16:17,816 MainProcess analyzerdf.analyzerdf.analyzer INFO     Найден дифференциал временного ряда\n"
     ]
    }
   ],
   "source": [
    "service2.start()"
   ]
  },
  {
   "cell_type": "code",
   "execution_count": 7,
   "metadata": {},
   "outputs": [
    {
     "name": "stderr",
     "output_type": "stream",
     "text": [
      "2024-11-19 16:54:55,042 MainProcess services.service INFO     Сервис завершил работу\n"
     ]
    }
   ],
   "source": [
    "service.stop()"
   ]
  },
  {
   "cell_type": "code",
   "execution_count": 10,
   "metadata": {},
   "outputs": [
    {
     "name": "stderr",
     "output_type": "stream",
     "text": [
      "2024-11-19 15:25:40,498 MainProcess services.service INFO     Сервис завершил работу\n"
     ]
    }
   ],
   "source": [
    "service2.stop()"
   ]
  },
  {
   "cell_type": "code",
   "execution_count": null,
   "metadata": {},
   "outputs": [],
   "source": [
    "analyzerdf.write_in_excel(samara_temperature_df_analyzer.data_frame, \n",
    "                          \"standart df\")"
   ]
  },
  {
   "cell_type": "code",
   "execution_count": null,
   "metadata": {},
   "outputs": [],
   "source": [
    "df_extremums = samara_temperature_df_analyzer.get_extremums()\n",
    "analyzerdf.write_in_excel(df_extremums, 'extremums')"
   ]
  },
  {
   "cell_type": "code",
   "execution_count": null,
   "metadata": {},
   "outputs": [],
   "source": [
    "fig1, ax1 = plt.subplots()\n",
    "ax1.plot(samara_temperature_df_analyzer.data_frame['tavg'])\n",
    "for i in df_extremums['tavg'].index:\n",
    "    ax1.scatter(x = i, y = df_extremums['tavg'].at[i], s = 5, c = 'r')\n",
    "ax1.set_title('График температуры в Самаре')\n",
    "ax1.set_ylabel('Значения средней температуры')\n",
    "ax1.set_xlabel('Даты')"
   ]
  },
  {
   "cell_type": "code",
   "execution_count": null,
   "metadata": {},
   "outputs": [],
   "source": [
    "df_rolling_meaning = samara_temperature_df_analyzer.get_rolling_meaning(30)\n",
    "df_rolling_meaning.dropna(axis='rows', how='all', inplace=True)\n",
    "\n",
    "df_rolling_meaning_analyzer = analyzerdf.Analyzer(df_rolling_meaning, [samara._lat, samara._lon, samara._alt])\n",
    "analyzerdf.write_in_excel(df_rolling_meaning_analyzer.data_frame, \"roll mean\")\n",
    "\n",
    "df_rolling_meaning_extremums = df_rolling_meaning_analyzer.get_extremums()\n",
    "analyzerdf.write_in_excel(df_rolling_meaning_extremums, \n",
    "                          \"extremums from roll mean\")"
   ]
  },
  {
   "cell_type": "code",
   "execution_count": null,
   "metadata": {},
   "outputs": [],
   "source": [
    "fig2, ax2 = plt.subplots()\n",
    "ax2.plot(df_rolling_meaning_analyzer.data_frame['tavg'])\n",
    "for i in df_rolling_meaning_extremums['tavg'].index:\n",
    "    ax2.scatter(x = i, \n",
    "                y = df_rolling_meaning_extremums['tavg'].at[i], \n",
    "                s = 5, \n",
    "                c = 'r')\n",
    "ax2.set_title('График скользящего среднего температуры в Самаре')\n",
    "ax2.set_ylabel('Значения скользящего среднего с окном \\n' + \n",
    "               'размера 30 средней температуры')\n",
    "ax2.set_xlabel('Даты')"
   ]
  },
  {
   "cell_type": "code",
   "execution_count": null,
   "metadata": {},
   "outputs": [],
   "source": [
    "df_rolling_meaning_diff = df_rolling_meaning_analyzer.get_differential()\n",
    "analyzerdf.write_in_excel(df_rolling_meaning_diff, \"diff from roll mean\")"
   ]
  },
  {
   "cell_type": "code",
   "execution_count": null,
   "metadata": {},
   "outputs": [],
   "source": [
    "fig3, ax3 = plt.subplots()\n",
    "ax3.plot(df_rolling_meaning_diff['tavg'])\n",
    "ax3.set_title('График дифференциала температуры в Самаре')\n",
    "ax3.set_ylabel('Значения дифференциала от скользящего \\n' + \n",
    "               'среднего размера 30 средней температуры')\n",
    "ax3.set_xlabel('Даты')"
   ]
  },
  {
   "cell_type": "code",
   "execution_count": null,
   "metadata": {},
   "outputs": [],
   "source": [
    "df_rolling_meaning_autocorr = df_rolling_meaning_analyzer.get_autocorrelation()\n",
    "df_rolling_meaning_autocorr.dropna(axis='columns', how='all', inplace=True)\n",
    "analyzerdf.write_in_excel(df_rolling_meaning_autocorr, \n",
    "                          \"autocorr from roll mean\")"
   ]
  },
  {
   "cell_type": "code",
   "execution_count": null,
   "metadata": {},
   "outputs": [],
   "source": [
    "fig4, ax4 = plt.subplots()\n",
    "ax4.plot(df_rolling_meaning_autocorr['tavg'])\n",
    "ax4.set_title('График автокорелляции средней температуры в Самаре')\n",
    "ax4.set_ylabel('Значения коэффициентов корреляции')\n",
    "ax4.set_xlabel('Даты')"
   ]
  }
 ],
 "metadata": {
  "kernelspec": {
   "display_name": ".venv",
   "language": "python",
   "name": "python3"
  },
  "language_info": {
   "codemirror_mode": {
    "name": "ipython",
    "version": 3
   },
   "file_extension": ".py",
   "mimetype": "text/x-python",
   "name": "python",
   "nbconvert_exporter": "python",
   "pygments_lexer": "ipython3",
   "version": "3.12.6"
  }
 },
 "nbformat": 4,
 "nbformat_minor": 2
}
